{
 "cells": [
  {
   "cell_type": "markdown",
   "id": "ccb5f2a6-0909-4e21-8f72-95baed58864c",
   "metadata": {},
   "source": [
    "# BDAT 1004 – Data Programming - Problem Set 1\n",
    "### 23S Data Programming - 03 BDAT1004-23S-30733\n",
    "### Romana Hussain\n",
    "### Student id : 200530943\n",
    "### Student email :  200530943@student.georgianc.on.ca"
   ]
  },
  {
   "cell_type": "markdown",
   "id": "a5b161d8-6d55-40c6-aa14-57b477b7d2a1",
   "metadata": {},
   "source": [
    "#### Import libraries"
   ]
  },
  {
   "cell_type": "code",
   "execution_count": 1,
   "id": "50342bd5-6b74-4087-9e39-e776854ca97b",
   "metadata": {},
   "outputs": [],
   "source": [
    "import math"
   ]
  },
  {
   "cell_type": "markdown",
   "id": "4b05313e-26e6-49a9-934d-619d60e9f502",
   "metadata": {},
   "source": [
    "### 1. What data type is each of the following (evaluate where necessary)?\n",
    "<br>\n",
    "5<br>\n",
    "5.0<br>\n",
    "5 > 1<br>\n",
    "'5'<br>\n",
    "5 * 2<br>\n",
    "'5' * 2<br>\n",
    "'5' + '2'<br>\n",
    "5 / 2<br>\n",
    "5 % 2<br>\n",
    "{5, 2, 1}<br>\n",
    "5 == 3<br>\n",
    "Pi (the number)<br>\n",
    "<br>\n"
   ]
  },
  {
   "cell_type": "code",
   "execution_count": 2,
   "id": "420d591d-85d7-4792-9e27-bdbbf14d9fb0",
   "metadata": {},
   "outputs": [
    {
     "name": "stdout",
     "output_type": "stream",
     "text": [
      "<class 'int'>\n",
      "<class 'float'>\n",
      "<class 'bool'>\n",
      "<class 'str'>\n",
      "<class 'int'>\n",
      "<class 'str'>\n",
      "<class 'str'>\n",
      "<class 'float'>\n",
      "<class 'int'>\n",
      "<class 'set'>\n",
      "<class 'bool'>\n",
      "<class 'float'>\n"
     ]
    }
   ],
   "source": [
    "print(type(5))\n",
    "print(type(5.0))\n",
    "print(type(5 > 1))\n",
    "print(type('5'))\n",
    "print(type(5 * 2))\n",
    "print(type('5' * 2))\n",
    "print(type('5' + '2'))\n",
    "print(type(5 / 2))\n",
    "print(type(5 % 2))\n",
    "print(type({5, 2, 1}))\n",
    "print(type(5 == 3))\n",
    "print(type(math.pi)) # Pi"
   ]
  },
  {
   "cell_type": "code",
   "execution_count": null,
   "id": "22777ff8-2361-40a1-baa0-8cfb8f64c912",
   "metadata": {},
   "outputs": [],
   "source": []
  },
  {
   "cell_type": "markdown",
   "id": "5833f918-2273-4b7f-8f17-dfb960d5411d",
   "metadata": {},
   "source": [
    "### 2. Write (and evaluate) python expressions that answer these questions:"
   ]
  },
  {
   "cell_type": "markdown",
   "id": "8d75a5ba-56c7-4dac-b79e-1a1bddf801f9",
   "metadata": {},
   "source": [
    "#### a. How many letters are there in 'Supercalifragilisticexpialidocious'?"
   ]
  },
  {
   "cell_type": "code",
   "execution_count": 3,
   "id": "b1ab5fa9-ea2b-470f-a678-044220f4eb59",
   "metadata": {},
   "outputs": [
    {
     "name": "stdout",
     "output_type": "stream",
     "text": [
      "34\n"
     ]
    }
   ],
   "source": [
    "print(len('Supercalifragilisticexpialidocious'))"
   ]
  },
  {
   "cell_type": "markdown",
   "id": "4c5dbf18-d476-427d-8daa-feddc86af769",
   "metadata": {},
   "source": [
    "### b. Does 'Supercalifragilisticexpialidocious' contain 'ice' as a substring?"
   ]
  },
  {
   "cell_type": "code",
   "execution_count": 4,
   "id": "881572ac-209a-4c3f-93fc-65949bed81e3",
   "metadata": {},
   "outputs": [
    {
     "name": "stdout",
     "output_type": "stream",
     "text": [
      "True\n"
     ]
    }
   ],
   "source": [
    "print('ice' in 'Supercalifragilisticexpialidocious')"
   ]
  },
  {
   "cell_type": "markdown",
   "id": "d5965336-e1ef-4181-b250-8b7a60777b57",
   "metadata": {},
   "source": [
    "#### c. Which of the following words is the longest:\n",
    "Supercalifragilisticexpialidocious, Honorificabilitudinitatibus, or\n",
    "Bababadalgharaghtakamminarronnkonn?"
   ]
  },
  {
   "cell_type": "code",
   "execution_count": 5,
   "id": "b17136c0-7329-4e7f-8449-1f7b0a0b4d5c",
   "metadata": {},
   "outputs": [
    {
     "name": "stdout",
     "output_type": "stream",
     "text": [
      "length of Supercalifragilisticexpialidocious: 34\n",
      "length of Honorificabilitudinitatibus: 27\n",
      "length of Bababadalgharaghtakamminarronnkonn: 34\n",
      "\n",
      "\n",
      "Supercalifragilisticexpialidocious is longest \n",
      "\n",
      "Bababadalgharaghtakamminarronnkonn is longest\n"
     ]
    }
   ],
   "source": [
    "lena=len('Supercalifragilisticexpialidocious')\n",
    "print(\"length of Supercalifragilisticexpialidocious:\",lena) \n",
    "lenb=len('Honorificabilitudinitatibus')\n",
    "print(\"length of Honorificabilitudinitatibus:\",lenb)\n",
    "lenc=len('Bababadalgharaghtakamminarronnkonn')\n",
    "print(\"length of Bababadalgharaghtakamminarronnkonn:\",lenc)\n",
    "print('\\n')\n",
    "if (lena>=lenb and lena>=lenc):\n",
    "    print('Supercalifragilisticexpialidocious is longest \\n')\n",
    "if(lenb>=lenc and lenb>=lena):\n",
    "    print('Honorificabilitudinitatibus is longest')\n",
    "if(lenc>=lena and lenc>=lenb):\n",
    "    print('Bababadalgharaghtakamminarronnkonn is longest')\n",
    "# Both Supercalifragilisticexpialidocious and Bababadalgharaghtakamminarronnkonn are the longest"
   ]
  },
  {
   "cell_type": "markdown",
   "id": "8ff8fb97-03d3-46c4-8a4b-12ff5ebb4144",
   "metadata": {},
   "source": [
    "#### d. Which composer comes first in the dictionary: 'Berlioz', 'Borodin', 'Brian',\n",
    "'Bartok', 'Bellini', 'Buxtehude', 'Bernstein'. Which one comes last?"
   ]
  },
  {
   "cell_type": "code",
   "execution_count": 6,
   "id": "02149560-6920-413b-80e2-f4b3faa3e0f7",
   "metadata": {},
   "outputs": [
    {
     "name": "stdout",
     "output_type": "stream",
     "text": [
      "Buxtehude comes last\n"
     ]
    }
   ],
   "source": [
    "wordList = ['Bartok', 'Bellini', 'Buxtehude', 'Bernstein']\n",
    "wordList.sort()\n",
    "print('{} comes last'.format(wordList[-1]))"
   ]
  },
  {
   "cell_type": "markdown",
   "id": "13dac246-a864-4f7c-9da8-efa8f24d8225",
   "metadata": {},
   "source": [
    "### 3. Implement function triangleArea(a,b,c) that takes as input the lengths of the 3 Sides of a triangle and returns the area of the triangle. By Heron's formula, the area of a triangle with side lengths a, b, and c is s(s - a)(s -b)(s - c), where s = (a +b +c)/2."
   ]
  },
  {
   "cell_type": "code",
   "execution_count": 7,
   "id": "0d001556-e01d-4699-a7c7-ddd8894b6b8f",
   "metadata": {},
   "outputs": [
    {
     "data": {
      "text/plain": [
       "1.7320508075688772"
      ]
     },
     "execution_count": 7,
     "metadata": {},
     "output_type": "execute_result"
    }
   ],
   "source": [
    "def triangleArea(a,b,c):\n",
    "    s = (a+b+c)/2\n",
    "    return math.sqrt(s*(s-a)*(s-b)*(s-c))\n",
    "triangleArea(2,2,2)"
   ]
  },
  {
   "cell_type": "markdown",
   "id": "aec752fa-7039-48ca-b405-712cc4c60bbf",
   "metadata": {},
   "source": [
    "### 4.Write a program in python to separate odd and even integers in separate arrays. \n",
    "Go to the editor <br>\n",
    "Test Data :<br>\n",
    "Input the number of elements to be stored in the array :5<br>\n",
    "Input 5 elements in the array :<br>\n",
    "element - 0 : 25<br>\n",
    "element - 1 : 47<br>\n",
    "element - 2 : 42<br>\n",
    "element - 3 : 56<br>\n",
    "element - 4 : 32<br>\n",
    "Expected Output:<br>\n",
    "The Even elements are:<br>\n",
    "42 56 32<br>\n",
    "The Odd elements are :<br>\n",
    "25 47<br>"
   ]
  },
  {
   "cell_type": "code",
   "execution_count": 8,
   "id": "d574256c-0650-4b27-8e1e-3f02d1b9070a",
   "metadata": {},
   "outputs": [
    {
     "name": "stdin",
     "output_type": "stream",
     "text": [
      "element-0: 25\n",
      "element-1: 47\n",
      "element-2: 42\n",
      "element-3: 56\n",
      "element-4: 32\n"
     ]
    },
    {
     "name": "stdout",
     "output_type": "stream",
     "text": [
      "The Even elements are:\n",
      "42 56 32 \n",
      "\n",
      "The Odd elements are:\n",
      "25 47 "
     ]
    }
   ],
   "source": [
    "numberList = []\n",
    "for i in range(0,5):\n",
    "    number = int(input('element-{}:'.format(i)))\n",
    "    numberList.append(number)\n",
    "    \n",
    "oddList = []\n",
    "evenList = []\n",
    "\n",
    "for num in numberList:\n",
    "    if num%2==0:\n",
    "        evenList.append(num)\n",
    "    else:\n",
    "        oddList.append(num)\n",
    "        \n",
    "print(\"The Even elements are:\")\n",
    "for num in evenList:\n",
    "    print(num, end=' ')\n",
    "print(\"\\n\")\n",
    "print(\"The Odd elements are:\")\n",
    "for num in oddList:\n",
    "    print(num, end=' ')"
   ]
  },
  {
   "cell_type": "markdown",
   "id": "3cfabc23-50b7-42bf-9ac3-fc9c66886ece",
   "metadata": {},
   "source": [
    "### 5.\n",
    "a. Write a function inside(x,y,x1,y1,x2,y2) that returns True or False <br>\n",
    "depending on whether the point (x,y) lies in the rectangle with lower left <br>\n",
    "corner (x1,y1) and upper right corner (x2,y2). <br>\n"
   ]
  },
  {
   "cell_type": "code",
   "execution_count": 9,
   "id": "4bf50104-5387-46da-b377-bd9a58053138",
   "metadata": {},
   "outputs": [
    {
     "name": "stdout",
     "output_type": "stream",
     "text": [
      "True\n",
      "False\n"
     ]
    }
   ],
   "source": [
    "def inside(x,y,x1,y1,x2,y2):\n",
    "    if  x>x1 and x<x2 and y>y1 and y<y2:\n",
    "        return True\n",
    "    else:\n",
    "        return False\n",
    "print(inside(1,1,0,0,2,3))\n",
    "print(inside(-1,-1,0,0,2,3))"
   ]
  },
  {
   "cell_type": "markdown",
   "id": "0c72f7b2-464b-42bc-8521-18b2b3b2a3d8",
   "metadata": {},
   "source": [
    "b.Use function inside() from part a. to write an expression that tests whether <br>\n",
    "the point (1,1) lies in both of the following rectangles: one with lower left <br>\n",
    "corner (0.3, 0.5) and upper right corner (1.1, 0.7) and the other with lower <br>\n",
    "left corner (0.5, 0.2) and upper right corner (1.1, 2). <br>"
   ]
  },
  {
   "cell_type": "code",
   "execution_count": 10,
   "id": "d5594f42-8257-4f9c-b039-67fca7152130",
   "metadata": {},
   "outputs": [
    {
     "name": "stdout",
     "output_type": "stream",
     "text": [
      "False\n"
     ]
    }
   ],
   "source": [
    "print( inside(1,1,0.3,0.5,1.1,0.7) and inside(1,1,0.5,0.2,1.1,2)   )"
   ]
  },
  {
   "cell_type": "markdown",
   "id": "30abe76e-6291-4d80-8e1d-ae360f20826e",
   "metadata": {},
   "source": [
    "### 6.  You can turn a word into pig-Latin using the following two rules (simplified):\n",
    "• If the word starts with a consonant, move that letter to the end and append\n",
    "'ay'. For example, 'happy' becomes 'appyhay' and 'pencil' becomes 'encilpay'. <br>\n",
    "• If the word starts with a vowel, simply append 'way' to the end of the word.\n",
    "For example, 'enter' becomes 'enterway' and 'other' becomes 'otherway' . For\n",
    "our purposes, there are 5 vowels: a, e, i, o, u (so we count y as a consonant).\n",
    "Write a function pig() that takes a word (i.e., a string) as input and returns its pigLatin form. Your function should still work if the input word contains upper case\n",
    "characters. Your output should always be lower case however"
   ]
  },
  {
   "cell_type": "code",
   "execution_count": 11,
   "id": "d94d0e32-bbea-40ca-aabf-8fbb828160c9",
   "metadata": {},
   "outputs": [
    {
     "name": "stdout",
     "output_type": "stream",
     "text": [
      "appyhay\n",
      "enterway\n"
     ]
    }
   ],
   "source": [
    "def pig(word):\n",
    "    word = word.lower()\n",
    "    if word[0] not in ['a', 'e', 'i', 'o', 'u']:\n",
    "        return word[1:]+word[0]+'ay'\n",
    "    else:\n",
    "        return word+'way'\n",
    "print( pig('happy') )\n",
    "print( pig('enter') )"
   ]
  },
  {
   "cell_type": "markdown",
   "id": "5f951e36-7584-4ce3-8fe7-4c996d44889c",
   "metadata": {},
   "source": [
    "### 7. File bloodtype1.txt records blood-types of patients (A, B, AB, O or OO) at a clinic.\n",
    "Write a function bldcount() that reads the file with name name and reports (i.e.,\n",
    "prints) how many patients there are in each bloodtype."
   ]
  },
  {
   "cell_type": "code",
   "execution_count": 12,
   "id": "4bdf3c3f-7bcb-40b3-a7a5-02a4c3556f81",
   "metadata": {},
   "outputs": [
    {
     "name": "stdout",
     "output_type": "stream",
     "text": [
      "There are 15 patients of blood type A.\n",
      "There are one patient of blood type B.\n",
      "There are 13 patients of blood type AB.\n",
      "There are 15 patients of blood type O.\n",
      "There are no patients of blood type OO.\n"
     ]
    }
   ],
   "source": [
    "def bldCount(fileName):\n",
    "    \n",
    "    dictionary = {'A': 0, 'B': 0, 'AB': 0, 'O': 0, 'OO':0}\n",
    "    \n",
    "    fp = open('./'+fileName, 'r')\n",
    "    \n",
    "    for line in fp.readlines():\n",
    "        for word in line.split(\" \"):\n",
    "            if word.strip()==\"\":\n",
    "                continue\n",
    "            dictionary[word] +=1\n",
    "    \n",
    "    for bldType in dictionary:\n",
    "        if dictionary[bldType]>1:\n",
    "            print('There are {} patients of blood type {}.'.format(dictionary[bldType], bldType)  )\n",
    "        if dictionary[bldType]==1:\n",
    "            print('There are one patient of blood type {}.'.format(bldType)  )\n",
    "        if dictionary[bldType]==0:\n",
    "            print('There are no patients of blood type {}.'.format(bldType)  )\n",
    "    \n",
    "    \n",
    "    fp.close()\n",
    "    \n",
    "bldCount('bloodtype.txt')"
   ]
  },
  {
   "cell_type": "markdown",
   "id": "c9e8cf88-69be-4e02-8510-c64184e2eeb3",
   "metadata": {},
   "source": [
    "### 8. Write a function curconv() that takes as input:\n",
    "1. a currency represented using a string (e.g., 'JPY' for the Japanese Yen or\n",
    "'EUR' for the Euro)\n",
    "2. an amount\n",
    "and then converts and returns the amount in US dollars"
   ]
  },
  {
   "cell_type": "markdown",
   "id": "afcd8d60-80ab-4a76-ae38-0f28132e2054",
   "metadata": {},
   "source": [
    "def curconv(currency,amount):\n",
    "    currency = currency.upper()\n",
    "    dictionary = {}\n",
    "    fp = open('currencies.txt', 'r')\n",
    "    \n",
    "    for line in fp.readlines():\n",
    "        if line.strip()==0:\n",
    "            continue\n",
    "        wordList = line.split(\"\\t\")\n",
    "        dictionary[wordList[0]] = float(wordList[1])\n",
    "    fp.close()\n",
    "    \n",
    "    if currency in dictionary:\n",
    "        return amount*dictionary[currency]\n",
    "    else:\n",
    "        return 'Currency not supported'\n",
    "    \n",
    "    \n",
    "\n",
    "print(curconv('EUR', 100))\n",
    "print(curconv('JPY', 100))"
   ]
  },
  {
   "cell_type": "markdown",
   "id": "37b871ae-f023-428b-8bb9-78c3ea813f9d",
   "metadata": {},
   "source": [
    "### 9. Each of the following will cause an exception (an error). Identify what type of exception each will cause.\n",
    "\n",
    "1. Trying to add incompatible variables, as in adding 6 + ‘a’ :-<br> SyntaxError (invalid character in identifier)\n",
    "<br>\n",
    "2. Referring to the 12th item of a list that has only 10 items :-<br> IndexError (list index out of range)\n",
    "<br>\n",
    "3. Using a value that is out of range for a function’s input, such as calling math.sqrt(-1.0) :-<br> ValueError ( math domain error)\n",
    "<br>\n",
    "4. Using an undeclared variable, such as print(x) when x has not been defined :-<br> NameError (name 'x' is not defined)\n",
    "<br>\n",
    "5. Trying to open a file that does not exist, such asmistyping the file name or looking in the wrong directory :-<br> FileNotFoundError ( [Errno 2] No such file or directory: 'cusrrencies.txt')"
   ]
  },
  {
   "cell_type": "markdown",
   "id": "641cc207-9f49-4902-8586-5425100c3306",
   "metadata": {},
   "source": [
    "### 10.\n",
    "Encryption is the process of hiding the meaning of a text by substituting letters in the\n",
    "message with other letters, according to some system. If the process is successful, no\n",
    "one but the intended recipient can understand the encrypted message. Cryptanalysis\n",
    "refers to attempts to undo the encryption, even if some details of the encryption are\n",
    "unknown (for example, if an encrypted message has been intercepted). The first step\n",
    "of cryptanalysis is often to build up a table of letter frequencies in the encrypted text.\n",
    "Assume that the string letters is already defined as\n",
    "'abcdefghijklmnopqrstuvwxyz'. Write a function called frequencies()\n",
    "that takes a string as its only parameter, and returns a list of integers, showing the\n",
    "number of times each character appears in the text. Your function may ignore any\n",
    "characters that are not in letters."
   ]
  },
  {
   "cell_type": "code",
   "execution_count": 13,
   "id": "182233bc-839d-4e98-a0ee-eaef0c4602c7",
   "metadata": {},
   "outputs": [
    {
     "name": "stdout",
     "output_type": "stream",
     "text": [
      "[1, 1, 1, 3, 5, 1, 1, 2, 1, 0, 1, 0, 1, 2, 4, 0, 1, 2, 0, 2, 1, 0, 1, 1, 0, 0]\n",
      "[1, 0, 0, 0, 1, 0, 0, 0, 0, 0, 0, 1, 0, 0, 0, 2, 0, 0, 0, 0, 0, 0, 0, 0, 0, 0]\n"
     ]
    }
   ],
   "source": [
    "def frequencies(message):\n",
    "    # message = message.lower()\n",
    "    dictionary = {}\n",
    "    for character in 'abcdefghijklmnopqrstuvwxyz':\n",
    "        dictionary[character] = 0\n",
    "    \n",
    "    for character in message:\n",
    "        if character in dictionary:\n",
    "            dictionary[character] +=1\n",
    "\n",
    "    frequencyList = []\n",
    "    for character in 'abcdefghijklmnopqrstuvwxyz':\n",
    "        frequencyList.append( dictionary[character])\n",
    "    \n",
    "    return frequencyList\n",
    "\n",
    "print(frequencies('The quick red fox got bored and went home.'))\n",
    "print(frequencies('apple'))"
   ]
  },
  {
   "cell_type": "code",
   "execution_count": null,
   "id": "51f48ebb-c9ad-4a8a-a555-ac27924641a3",
   "metadata": {},
   "outputs": [],
   "source": []
  }
 ],
 "metadata": {
  "kernelspec": {
   "display_name": "Python 3 (ipykernel)",
   "language": "python",
   "name": "python3"
  },
  "language_info": {
   "codemirror_mode": {
    "name": "ipython",
    "version": 3
   },
   "file_extension": ".py",
   "mimetype": "text/x-python",
   "name": "python",
   "nbconvert_exporter": "python",
   "pygments_lexer": "ipython3",
   "version": "3.8.16"
  }
 },
 "nbformat": 4,
 "nbformat_minor": 5
}
